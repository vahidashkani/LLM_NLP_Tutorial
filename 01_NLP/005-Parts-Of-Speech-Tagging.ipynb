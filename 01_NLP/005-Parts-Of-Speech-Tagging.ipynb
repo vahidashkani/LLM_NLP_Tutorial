{
 "cells": [
  {
   "cell_type": "markdown",
   "metadata": {},
   "source": [
    "### Parts Of Speech Tags"
   ]
  },
  {
   "cell_type": "raw",
   "metadata": {},
   "source": [
    "CC coordinating conjunction \n",
    "CD cardinal digit \n",
    "DT determiner \n",
    "EX existential there (like: “there is” … think of it like “there exists”) \n",
    "FW foreign word \n",
    "IN preposition/subordinating conjunction \n",
    "JJ adjective – ‘big’ \n",
    "JJR adjective, comparative – ‘bigger’ \n",
    "JJS adjective, superlative – ‘biggest’ \n",
    "LS list marker 1) \n",
    "MD modal – could, will \n",
    "NN noun, singular ‘- desk’ \n",
    "NNS noun plural – ‘desks’ \n",
    "NNP proper noun, singular – ‘Harrison’ \n",
    "NNPS proper noun, plural – ‘Americans’ \n",
    "PDT predeterminer – ‘all the kids’ \n",
    "POS possessive ending parent’s \n",
    "PRP personal pronoun –  I, he, she \n",
    "PRP$ possessive pronoun – my, his, hers \n",
    "RB adverb – very, silently, \n",
    "RBR adverb, comparative – better \n",
    "RBS adverb, superlative – best \n",
    "RP particle – give up \n",
    "TO – to go ‘to’ the store. \n",
    "UH interjection – errrrrrrrm \n",
    "VB verb, base form – take \n",
    "VBD verb, past tense – took \n",
    "VBG verb, gerund/present participle – taking \n",
    "VBN verb, past participle – taken \n",
    "VBP verb, sing. present, non-3d – take \n",
    "VBZ verb, 3rd person sing. present – takes \n",
    "WDT wh-determiner – which \n",
    "WP wh-pronoun – who, what \n",
    "WP$ possessive wh-pronoun, eg- whose \n",
    "WRB wh-adverb, eg- where, when"
   ]
  },
  {
   "cell_type": "code",
   "execution_count": 1,
   "metadata": {},
   "outputs": [],
   "source": [
    "paragraph = \"\"\"Natural language processing (NLP) is a subfield of computer science and especially artificial intelligence. It is primarily concerned with providing computers with the ability to process data encoded in natural language and is thus closely related to information retrieval, knowledge representation and computational linguistics, a subfield of linguistics. Typically data is collected in text corpora, using either rule-based, statistical or neural-based approaches in machine learning and deep learning.\n",
    "\n",
    "Major tasks in natural language processing are speech recognition, text classification, natural-language understanding, and natural-language generation.\"\"\""
   ]
  },
  {
   "cell_type": "code",
   "execution_count": 3,
   "metadata": {},
   "outputs": [],
   "source": [
    "import nltk\n",
    "from nltk.corpus import stopwords\n",
    "sentences=nltk.sent_tokenize(paragraph)"
   ]
  },
  {
   "cell_type": "code",
   "execution_count": 4,
   "metadata": {},
   "outputs": [
    {
     "data": {
      "text/plain": [
       "['Natural language processing (NLP) is a subfield of computer science and especially artificial intelligence.',\n",
       " 'It is primarily concerned with providing computers with the ability to process data encoded in natural language and is thus closely related to information retrieval, knowledge representation and computational linguistics, a subfield of linguistics.',\n",
       " 'Typically data is collected in text corpora, using either rule-based, statistical or neural-based approaches in machine learning and deep learning.',\n",
       " 'Major tasks in natural language processing are speech recognition, text classification, natural-language understanding, and natural-language generation.']"
      ]
     },
     "execution_count": 4,
     "metadata": {},
     "output_type": "execute_result"
    }
   ],
   "source": [
    "sentences"
   ]
  },
  {
   "cell_type": "code",
   "execution_count": 5,
   "metadata": {},
   "outputs": [
    {
     "name": "stderr",
     "output_type": "stream",
     "text": [
      "[nltk_data] Downloading package averaged_perceptron_tagger to\n",
      "[nltk_data]     C:\\Users\\Farid\\AppData\\Roaming\\nltk_data...\n",
      "[nltk_data]   Unzipping taggers\\averaged_perceptron_tagger.zip.\n"
     ]
    },
    {
     "data": {
      "text/plain": [
       "True"
      ]
     },
     "execution_count": 5,
     "metadata": {},
     "output_type": "execute_result"
    }
   ],
   "source": [
    "nltk.download('averaged_perceptron_tagger')"
   ]
  },
  {
   "cell_type": "code",
   "execution_count": 6,
   "metadata": {},
   "outputs": [
    {
     "name": "stdout",
     "output_type": "stream",
     "text": [
      "[('Natural', 'JJ'), ('language', 'NN'), ('processing', 'NN'), ('(', '('), ('NLP', 'NNP'), (')', ')'), ('subfield', 'VBD'), ('computer', 'NN'), ('science', 'NN'), ('especially', 'RB'), ('artificial', 'JJ'), ('intelligence', 'NN'), ('.', '.')]\n",
      "[('It', 'PRP'), ('primarily', 'RB'), ('concerned', 'VBD'), ('providing', 'VBG'), ('computers', 'NNS'), ('ability', 'NN'), ('process', 'NN'), ('data', 'NNS'), ('encoded', 'VBD'), ('natural', 'JJ'), ('language', 'NN'), ('thus', 'RB'), ('closely', 'RB'), ('related', 'JJ'), ('information', 'NN'), ('retrieval', 'NN'), (',', ','), ('knowledge', 'NN'), ('representation', 'NN'), ('computational', 'JJ'), ('linguistics', 'NNS'), (',', ','), ('subfield', 'VBD'), ('linguistics', 'NNS'), ('.', '.')]\n",
      "[('Typically', 'RB'), ('data', 'NNS'), ('collected', 'VBD'), ('text', 'JJ'), ('corpora', 'NN'), (',', ','), ('using', 'VBG'), ('either', 'CC'), ('rule-based', 'JJ'), (',', ','), ('statistical', 'JJ'), ('neural-based', 'JJ'), ('approaches', 'NNS'), ('machine', 'NN'), ('learning', 'VBG'), ('deep', 'JJ'), ('learning', 'NN'), ('.', '.')]\n",
      "[('Major', 'JJ'), ('tasks', 'NNS'), ('natural', 'JJ'), ('language', 'NN'), ('processing', 'NN'), ('speech', 'NN'), ('recognition', 'NN'), (',', ','), ('text', 'JJ'), ('classification', 'NN'), (',', ','), ('natural-language', 'JJ'), ('understanding', 'NN'), (',', ','), ('natural-language', 'JJ'), ('generation', 'NN'), ('.', '.')]\n"
     ]
    }
   ],
   "source": [
    "## We will find the Pos Tag\n",
    "\n",
    "for i in range(len(sentences)):\n",
    "    words=nltk.word_tokenize(sentences[i])\n",
    "    words=[word for word in words if word not in set(stopwords.words('english'))]\n",
    "    #sentences[i]=' '.join(words)# converting all the list of words into sentences\n",
    "    pos_tag=nltk.pos_tag(words)\n",
    "    print(pos_tag)"
   ]
  },
  {
   "cell_type": "code",
   "execution_count": 7,
   "metadata": {},
   "outputs": [
    {
     "data": {
      "text/plain": [
       "['Lemmatization',\n",
       " 'is',\n",
       " 'the',\n",
       " 'algorithmic',\n",
       " 'process',\n",
       " 'of',\n",
       " 'determining',\n",
       " 'the',\n",
       " 'lemma',\n",
       " 'of',\n",
       " 'a',\n",
       " 'word',\n",
       " 'based',\n",
       " 'on',\n",
       " 'its',\n",
       " 'intended',\n",
       " 'meaning.']"
      ]
     },
     "execution_count": 7,
     "metadata": {},
     "output_type": "execute_result"
    }
   ],
   "source": [
    " \"Lemmatization is the algorithmic process of determining the lemma of a word based on its intended meaning.\".split()"
   ]
  },
  {
   "cell_type": "code",
   "execution_count": 8,
   "metadata": {},
   "outputs": [
    {
     "name": "stdout",
     "output_type": "stream",
     "text": [
      "[('Lemmatization', 'NN'), ('is', 'VBZ'), ('the', 'DT'), ('algorithmic', 'JJ'), ('process', 'NN'), ('of', 'IN'), ('determining', 'VBG'), ('the', 'DT'), ('lemma', 'NN'), ('of', 'IN'), ('a', 'DT'), ('word', 'NN'), ('based', 'VBN'), ('on', 'IN'), ('its', 'PRP$'), ('intended', 'VBN'), ('meaning.', 'NN')]\n"
     ]
    }
   ],
   "source": [
    "\n",
    "print(nltk.pos_tag(\"Lemmatization is the algorithmic process of determining the lemma of a word based on its intended meaning.\".split()))"
   ]
  },
  {
   "cell_type": "code",
   "execution_count": null,
   "metadata": {},
   "outputs": [],
   "source": []
  },
  {
   "cell_type": "code",
   "execution_count": null,
   "metadata": {},
   "outputs": [],
   "source": []
  }
 ],
 "metadata": {
  "kernelspec": {
   "display_name": "Python 3",
   "language": "python",
   "name": "python3"
  },
  "language_info": {
   "codemirror_mode": {
    "name": "ipython",
    "version": 3
   },
   "file_extension": ".py",
   "mimetype": "text/x-python",
   "name": "python",
   "nbconvert_exporter": "python",
   "pygments_lexer": "ipython3",
   "version": "3.8.5"
  }
 },
 "nbformat": 4,
 "nbformat_minor": 4
}
